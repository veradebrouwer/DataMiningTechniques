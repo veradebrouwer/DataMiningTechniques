{
 "cells": [
  {
   "cell_type": "code",
   "execution_count": 1,
   "metadata": {},
   "outputs": [],
   "source": [
    "import pandas as pd\n",
    "import numpy as np\n",
    "import math\n",
    "import matplotlib.pyplot as plt\n",
    "import datetime"
   ]
  },
  {
   "cell_type": "code",
   "execution_count": 3,
   "metadata": {},
   "outputs": [
    {
     "data": {
      "text/html": [
       "<div>\n",
       "<style scoped>\n",
       "    .dataframe tbody tr th:only-of-type {\n",
       "        vertical-align: middle;\n",
       "    }\n",
       "\n",
       "    .dataframe tbody tr th {\n",
       "        vertical-align: top;\n",
       "    }\n",
       "\n",
       "    .dataframe thead th {\n",
       "        text-align: right;\n",
       "    }\n",
       "</style>\n",
       "<table border=\"1\" class=\"dataframe\">\n",
       "  <thead>\n",
       "    <tr style=\"text-align: right;\">\n",
       "      <th></th>\n",
       "      <th>Tijdstempel</th>\n",
       "      <th>What programme are you in?</th>\n",
       "      <th>Have you taken a course on machine learning?</th>\n",
       "      <th>Have you taken a course on information retrieval?</th>\n",
       "      <th>Have you taken a course on statistics?</th>\n",
       "      <th>Have you taken a course on databases?</th>\n",
       "      <th>What is your gender?</th>\n",
       "      <th>Chocolate makes you.....</th>\n",
       "      <th>When is your birthday (date)?</th>\n",
       "      <th>Number of neighbors sitting around you?</th>\n",
       "      <th>Did you stand up?</th>\n",
       "      <th>What is your stress level (0-100)?</th>\n",
       "      <th>You can get 100 euros if you win a local DM competition, or we don’t hold any competitions and I give everyone some money (not the same amount!). How much do you think you would deserve then?</th>\n",
       "      <th>Give a random number</th>\n",
       "      <th>Time you went to be Yesterday</th>\n",
       "      <th>What makes a good day for you (1)?</th>\n",
       "      <th>What makes a good day for you (2)?</th>\n",
       "    </tr>\n",
       "  </thead>\n",
       "  <tbody>\n",
       "    <tr>\n",
       "      <th>0</th>\n",
       "      <td>4-5-2022 12:12:07</td>\n",
       "      <td>artificial intelligence</td>\n",
       "      <td>yes</td>\n",
       "      <td>0</td>\n",
       "      <td>mu</td>\n",
       "      <td>nee</td>\n",
       "      <td>female</td>\n",
       "      <td>neither</td>\n",
       "      <td>02.05.1998</td>\n",
       "      <td>0</td>\n",
       "      <td>no</td>\n",
       "      <td>0</td>\n",
       "      <td>5</td>\n",
       "      <td>888</td>\n",
       "      <td>23:00</td>\n",
       "      <td>coffee</td>\n",
       "      <td>sun</td>\n",
       "    </tr>\n",
       "    <tr>\n",
       "      <th>1</th>\n",
       "      <td>4-5-2022 12:12:07</td>\n",
       "      <td>big data</td>\n",
       "      <td>yes</td>\n",
       "      <td>0</td>\n",
       "      <td>mu</td>\n",
       "      <td>nee</td>\n",
       "      <td>male</td>\n",
       "      <td>fat</td>\n",
       "      <td>29-02-2000</td>\n",
       "      <td>0</td>\n",
       "      <td>yes</td>\n",
       "      <td>200</td>\n",
       "      <td>1</td>\n",
       "      <td>12</td>\n",
       "      <td>32</td>\n",
       "      <td>7777</td>\n",
       "      <td>8964</td>\n",
       "    </tr>\n",
       "    <tr>\n",
       "      <th>2</th>\n",
       "      <td>4-5-2022 12:12:09</td>\n",
       "      <td>Computational  Science</td>\n",
       "      <td>yes</td>\n",
       "      <td>1</td>\n",
       "      <td>mu</td>\n",
       "      <td>ja</td>\n",
       "      <td>male</td>\n",
       "      <td>fat</td>\n",
       "      <td>29-06-1998</td>\n",
       "      <td>1</td>\n",
       "      <td>no</td>\n",
       "      <td>0</td>\n",
       "      <td>100</td>\n",
       "      <td>9</td>\n",
       "      <td>x</td>\n",
       "      <td>0</td>\n",
       "      <td>0</td>\n",
       "    </tr>\n",
       "    <tr>\n",
       "      <th>3</th>\n",
       "      <td>4-5-2022 12:12:09</td>\n",
       "      <td>Bioinformatics and Systems Biology</td>\n",
       "      <td>yes</td>\n",
       "      <td>0</td>\n",
       "      <td>unknown</td>\n",
       "      <td>nee</td>\n",
       "      <td>male</td>\n",
       "      <td>neither</td>\n",
       "      <td>11/05/97</td>\n",
       "      <td>0</td>\n",
       "      <td>no</td>\n",
       "      <td>20</td>\n",
       "      <td>100</td>\n",
       "      <td>31</td>\n",
       "      <td>14:00</td>\n",
       "      <td>good food</td>\n",
       "      <td>no stress</td>\n",
       "    </tr>\n",
       "    <tr>\n",
       "      <th>4</th>\n",
       "      <td>4-5-2022 12:12:15</td>\n",
       "      <td>AI</td>\n",
       "      <td>yes</td>\n",
       "      <td>1</td>\n",
       "      <td>mu</td>\n",
       "      <td>ja</td>\n",
       "      <td>male</td>\n",
       "      <td>fat</td>\n",
       "      <td>03-10-1997</td>\n",
       "      <td>0</td>\n",
       "      <td>no</td>\n",
       "      <td>2</td>\n",
       "      <td>100</td>\n",
       "      <td>86</td>\n",
       "      <td>07:20</td>\n",
       "      <td>Sunshine</td>\n",
       "      <td>Good Food</td>\n",
       "    </tr>\n",
       "  </tbody>\n",
       "</table>\n",
       "</div>"
      ],
      "text/plain": [
       "         Tijdstempel          What programme are you in?  \\\n",
       "0  4-5-2022 12:12:07             artificial intelligence   \n",
       "1  4-5-2022 12:12:07                            big data   \n",
       "2  4-5-2022 12:12:09              Computational  Science   \n",
       "3  4-5-2022 12:12:09  Bioinformatics and Systems Biology   \n",
       "4  4-5-2022 12:12:15                                  AI   \n",
       "\n",
       "  Have you taken a course on machine learning?  \\\n",
       "0                                          yes   \n",
       "1                                          yes   \n",
       "2                                          yes   \n",
       "3                                          yes   \n",
       "4                                          yes   \n",
       "\n",
       "  Have you taken a course on information retrieval?  \\\n",
       "0                                                 0   \n",
       "1                                                 0   \n",
       "2                                                 1   \n",
       "3                                                 0   \n",
       "4                                                 1   \n",
       "\n",
       "  Have you taken a course on statistics?  \\\n",
       "0                                     mu   \n",
       "1                                     mu   \n",
       "2                                     mu   \n",
       "3                                unknown   \n",
       "4                                     mu   \n",
       "\n",
       "  Have you taken a course on databases? What is your gender?  \\\n",
       "0                                   nee               female   \n",
       "1                                   nee                 male   \n",
       "2                                    ja                 male   \n",
       "3                                   nee                 male   \n",
       "4                                    ja                 male   \n",
       "\n",
       "  Chocolate makes you..... When is your birthday (date)?  \\\n",
       "0                  neither                    02.05.1998   \n",
       "1                      fat                    29-02-2000   \n",
       "2                      fat                    29-06-1998   \n",
       "3                  neither                      11/05/97   \n",
       "4                      fat                    03-10-1997   \n",
       "\n",
       "  Number of neighbors sitting around you? Did you stand up?  \\\n",
       "0                                       0                no   \n",
       "1                                       0               yes   \n",
       "2                                       1                no   \n",
       "3                                       0                no   \n",
       "4                                       0                no   \n",
       "\n",
       "  What is your stress level (0-100)?  \\\n",
       "0                                  0   \n",
       "1                                200   \n",
       "2                                  0   \n",
       "3                                 20   \n",
       "4                                  2   \n",
       "\n",
       "  You can get 100 euros if you win a local DM competition, or we don’t hold any competitions and I give everyone some money (not the same amount!). How much do you think you would deserve then?   \\\n",
       "0                                                  5                                                                                                                                                 \n",
       "1                                                  1                                                                                                                                                 \n",
       "2                                                100                                                                                                                                                 \n",
       "3                                                100                                                                                                                                                 \n",
       "4                                                100                                                                                                                                                 \n",
       "\n",
       "  Give a random number Time you went to be Yesterday  \\\n",
       "0                  888                         23:00   \n",
       "1                   12                            32   \n",
       "2                    9                             x   \n",
       "3                   31                         14:00   \n",
       "4                   86                         07:20   \n",
       "\n",
       "  What makes a good day for you (1)? What makes a good day for you (2)?  \n",
       "0                             coffee                                sun  \n",
       "1                               7777                               8964  \n",
       "2                                  0                                  0  \n",
       "3                          good food                          no stress  \n",
       "4                           Sunshine                          Good Food  "
      ]
     },
     "execution_count": 3,
     "metadata": {},
     "output_type": "execute_result"
    }
   ],
   "source": [
    "df = pd.read_csv('data/ODI-2022.csv', sep = ';')\n",
    "df_oud = df\n",
    "df = df.rename(columns={'Chocolate makes you.....':'chocolate', 'Have you taken a course on machine learning?':'course ML?', 'Have you taken a course on information retrieval?':'course IR?'})\n",
    "df = df.rename(columns={'Have you taken a course on statistics?':'course stat?', 'Have you taken a course on databases?':'course db?', 'What is your gender?':'gender'})\n",
    "df = df.rename(columns={'When is your birthday (date)?':'date of birth', 'Number of neighbors sitting around you?':'neighbors sitting', 'Did you stand up?':'stand?', 'What is your stress level (0-100)?':'stress'})\n",
    "df = df.rename(columns={'What programme are you in?': 'programme', 'Give a random number':'random number', 'Time you went to be Yesterday':'random'})\n",
    "df = df.rename(columns={'What makes a good day for you (1)?':'good day 1', 'What makes a good day for you (2)?':'good day 2'})\n",
    "df = df.rename(columns={'You can get 100 euros if you win a local DM competition, or we don’t hold any competitions and I give everyone some money (not the same amount!). How much do you think you would deserve then? ':'deserving'})\n",
    "\n",
    "df_oud.head()"
   ]
  },
  {
   "cell_type": "code",
   "execution_count": 4,
   "metadata": {},
   "outputs": [
    {
     "data": {
      "text/plain": [
       "Tijdstempel                                                                                                                                                                                         304\n",
       "What programme are you in?                                                                                                                                                                          304\n",
       "Have you taken a course on machine learning?                                                                                                                                                        304\n",
       "Have you taken a course on information retrieval?                                                                                                                                                   304\n",
       "Have you taken a course on statistics?                                                                                                                                                              304\n",
       "Have you taken a course on databases?                                                                                                                                                               304\n",
       "What is your gender?                                                                                                                                                                                304\n",
       "Chocolate makes you.....                                                                                                                                                                            304\n",
       "When is your birthday (date)?                                                                                                                                                                       304\n",
       "Number of neighbors sitting around you?                                                                                                                                                             304\n",
       "Did you stand up?                                                                                                                                                                                   304\n",
       "What is your stress level (0-100)?                                                                                                                                                                  304\n",
       "You can get 100 euros if you win a local DM competition, or we don’t hold any competitions and I give everyone some money (not the same amount!). How much do you think you would deserve then?     303\n",
       "Give a random number                                                                                                                                                                                304\n",
       "Time you went to be Yesterday                                                                                                                                                                       302\n",
       "What makes a good day for you (1)?                                                                                                                                                                  304\n",
       "What makes a good day for you (2)?                                                                                                                                                                  304\n",
       "dtype: int64"
      ]
     },
     "execution_count": 4,
     "metadata": {},
     "output_type": "execute_result"
    }
   ],
   "source": [
    "df_oud.count()"
   ]
  },
  {
   "cell_type": "code",
   "execution_count": 684,
   "metadata": {},
   "outputs": [
    {
     "data": {
      "text/plain": [
       "count     304\n",
       "unique    142\n",
       "top         7\n",
       "freq       19\n",
       "Name: random number, dtype: object"
      ]
     },
     "execution_count": 684,
     "metadata": {},
     "output_type": "execute_result"
    }
   ],
   "source": [
    "\n",
    "df['course stat?'].describe()"
   ]
  },
  {
   "cell_type": "code",
   "execution_count": 825,
   "metadata": {},
   "outputs": [
    {
     "data": {
      "text/plain": [
       "mu         243\n",
       "sigma       33\n",
       "unknown     28\n",
       "Name: course stat?, dtype: int64"
      ]
     },
     "execution_count": 825,
     "metadata": {},
     "output_type": "execute_result"
    }
   ],
   "source": [
    "df['course stat?'].value_counts()"
   ]
  },
  {
   "cell_type": "code",
   "execution_count": null,
   "metadata": {},
   "outputs": [],
   "source": []
  },
  {
   "cell_type": "code",
   "execution_count": 817,
   "metadata": {},
   "outputs": [],
   "source": [
    "def numberToFloat(number):\n",
    "    try:\n",
    "        return float(number)\n",
    "    except ValueError:\n",
    "        print(number)\n",
    "        return None\n",
    "    \n",
    "def correctProgramme(programme):\n",
    "    programme = programme.lower()\n",
    "    if 'artificial' in programme or 'ai' in programme:\n",
    "        return 'Artificial Intelligence'\n",
    "    elif 'computer' in programme or 'cs' in programme:\n",
    "        return 'Computer Science'\n",
    "    elif 'ba' in programme or 'business' in programme:\n",
    "        return 'Business Analytics'\n",
    "    elif 'computational' in programme or 'cls' in programme:\n",
    "        return 'Computational Science'\n",
    "    elif 'econometrics' in programme or 'research' in programme:\n",
    "        return 'Econometrics'\n",
    "    elif 'data' in programme or 'information' in programme:\n",
    "        return 'Data Science'\n",
    "\n",
    "    else:\n",
    "        print(programme)\n",
    "        return 'other'\n",
    "    \n",
    "def toYesNo(answer):\n",
    "    #print(answer)\n",
    "    if answer == '0' or answer == 'nee' or answer == 'sigma' or answer == 'no':\n",
    "        return 0\n",
    "    if answer == '1' or answer == 'ja' or answer == 'mu' or answer == 'yes':\n",
    "        return 1\n",
    "    else:\n",
    "        return np.nan\n",
    "    \n",
    "def formatGoodTime(good):\n",
    "    smallGood = good.lower()\n",
    "    if 'sun' in smallGood:\n",
    "        return \"Sun\"\n",
    "    if 'food' in smallGood or 'snacks' in smallGood or '':\n",
    "        return 'Food'\n",
    "    if 'weather' in smallGood:\n",
    "        return 'Weather'\n",
    "    if 'friends' in smallGood or 'family' in smallGood:\n",
    "        return \"Family and Friends\"\n",
    "    if 'sleep' in smallGood:\n",
    "        return 'Sleep'\n",
    "    if 'sport' in smallGood or 'gym' in smallGood or 'workout' in smallGood:\n",
    "        return 'Exercise'\n",
    "    if 'coffee' in smallGood:\n",
    "        return 'Coffee'\n",
    "    if 'sex' in smallGood:\n",
    "        return 'Sex'\n",
    "    else:\n",
    "        #print(good)\n",
    "        return good\n",
    "\n"
   ]
  },
  {
   "cell_type": "code",
   "execution_count": 818,
   "metadata": {},
   "outputs": [
    {
     "name": "stdout",
     "output_type": "stream",
     "text": [
      "Π\n",
      "1947271047294720^10204847\n",
      "No\n",
      "7,66789E+13\n",
      "omega\n",
      "e\n",
      "54.727.163.638.182.600.000.000.000.000.000.000.000\n",
      "9,13747E+12\n",
      "sqrt(687458.9665)\n",
      "6,96788E+14\n",
      "∞\n",
      "dont tell me what to do\n",
      "-34,67\n"
     ]
    },
    {
     "data": {
      "text/plain": [
       "37.0"
      ]
     },
     "execution_count": 818,
     "metadata": {},
     "output_type": "execute_result"
    }
   ],
   "source": [
    "df1 = pd.DataFrame()\n",
    "df1['good day 1'] = df['good day 1'].apply(formatGoodTime)\n",
    "df1['good day 2'] = df['good day 2'].apply(formatGoodTime)\n",
    "df1['random number'] = df['random number'].apply(numberToFloat)\n",
    "df1['random number'].median()"
   ]
  },
  {
   "cell_type": "code",
   "execution_count": 821,
   "metadata": {},
   "outputs": [
    {
     "name": "stdout",
     "output_type": "stream",
     "text": [
      "fintech\n",
      "programme?\n",
      "finance and technology\n",
      "chrome\n",
      "duisenberg honours programme in quantitative risk management\n",
      "medical natural sciences\n",
      "mpa\n",
      "none\n",
      "human language technology\n",
      "cheese\n",
      "qrm\n",
      "seg\n",
      "advanced\n",
      "qrm\n",
      "phd\n",
      "is:ds\n",
      "msc finance\n",
      "phd\n",
      "engineering and policy analysis, tu delft\n",
      "qrm\n",
      "masters eor\n",
      "human language technology\n",
      "eor\n",
      "f&t\n",
      "exchange program\n",
      "python\n",
      "fin: qrm\n",
      "qrm\n",
      "biomolecular sciences\n",
      "e&or\n",
      "quantitative risk management\n",
      "eor\n",
      "human language technology\n",
      "eor\n",
      "mpa\n",
      "quantitative risk management\n",
      "bisb\n",
      "biomedical science\n",
      "e\n"
     ]
    },
    {
     "data": {
      "text/plain": [
       "Artificial Intelligence    114\n",
       "Computer Science            97\n",
       "other                       39\n",
       "Computational Science       37\n",
       "Data Science                 9\n",
       "Business Analytics           8\n",
       "Name: Programme, dtype: int64"
      ]
     },
     "execution_count": 821,
     "metadata": {},
     "output_type": "execute_result"
    }
   ],
   "source": [
    "experience = pd.DataFrame()\n",
    "experience['Machine Learning'] = df['course ML?'].apply(toYesNo)\n",
    "experience['Information Retrieval'] = df['course IR?'].apply(toYesNo)\n",
    "experience['Statistics'] = df['course stat?'].apply(toYesNo)\n",
    "experience['Databases'] = df['course db?'].apply(toYesNo)\n",
    "experience['Programme'] = df['programme'].apply(correctProgramme)\n",
    "\n",
    "#experience = experience.set_index('programme')\n",
    "experience['total courses'] = experience['Machine Learning'] + experience['Information Retrieval'] + experience['Statistics'] + experience['Databases']\n",
    "\n",
    "experience['Programme'].value_counts()"
   ]
  },
  {
   "cell_type": "code",
   "execution_count": 689,
   "metadata": {},
   "outputs": [
    {
     "data": {
      "text/html": [
       "<div>\n",
       "<style scoped>\n",
       "    .dataframe tbody tr th:only-of-type {\n",
       "        vertical-align: middle;\n",
       "    }\n",
       "\n",
       "    .dataframe tbody tr th {\n",
       "        vertical-align: top;\n",
       "    }\n",
       "\n",
       "    .dataframe thead th {\n",
       "        text-align: right;\n",
       "    }\n",
       "</style>\n",
       "<table border=\"1\" class=\"dataframe\">\n",
       "  <thead>\n",
       "    <tr style=\"text-align: right;\">\n",
       "      <th></th>\n",
       "      <th>Machine Learning</th>\n",
       "      <th>Information Retrieval</th>\n",
       "      <th>Statistics</th>\n",
       "      <th>Databases</th>\n",
       "      <th>Programme</th>\n",
       "      <th>total courses</th>\n",
       "    </tr>\n",
       "  </thead>\n",
       "  <tbody>\n",
       "    <tr>\n",
       "      <th>0</th>\n",
       "      <td>1.0</td>\n",
       "      <td>0.0</td>\n",
       "      <td>1.0</td>\n",
       "      <td>0.0</td>\n",
       "      <td>Artificial Intelligence</td>\n",
       "      <td>2.0</td>\n",
       "    </tr>\n",
       "    <tr>\n",
       "      <th>1</th>\n",
       "      <td>1.0</td>\n",
       "      <td>0.0</td>\n",
       "      <td>1.0</td>\n",
       "      <td>0.0</td>\n",
       "      <td>Data Science</td>\n",
       "      <td>2.0</td>\n",
       "    </tr>\n",
       "    <tr>\n",
       "      <th>2</th>\n",
       "      <td>1.0</td>\n",
       "      <td>1.0</td>\n",
       "      <td>1.0</td>\n",
       "      <td>1.0</td>\n",
       "      <td>Computational Science</td>\n",
       "      <td>4.0</td>\n",
       "    </tr>\n",
       "    <tr>\n",
       "      <th>3</th>\n",
       "      <td>1.0</td>\n",
       "      <td>0.0</td>\n",
       "      <td>NaN</td>\n",
       "      <td>0.0</td>\n",
       "      <td>Computer Science</td>\n",
       "      <td>NaN</td>\n",
       "    </tr>\n",
       "    <tr>\n",
       "      <th>4</th>\n",
       "      <td>1.0</td>\n",
       "      <td>1.0</td>\n",
       "      <td>1.0</td>\n",
       "      <td>1.0</td>\n",
       "      <td>Artificial Intelligence</td>\n",
       "      <td>4.0</td>\n",
       "    </tr>\n",
       "  </tbody>\n",
       "</table>\n",
       "</div>"
      ],
      "text/plain": [
       "   Machine Learning  Information Retrieval  Statistics  Databases  \\\n",
       "0               1.0                    0.0         1.0        0.0   \n",
       "1               1.0                    0.0         1.0        0.0   \n",
       "2               1.0                    1.0         1.0        1.0   \n",
       "3               1.0                    0.0         NaN        0.0   \n",
       "4               1.0                    1.0         1.0        1.0   \n",
       "\n",
       "                 Programme  total courses  \n",
       "0  Artificial Intelligence            2.0  \n",
       "1             Data Science            2.0  \n",
       "2    Computational Science            4.0  \n",
       "3         Computer Science            NaN  \n",
       "4  Artificial Intelligence            4.0  "
      ]
     },
     "execution_count": 689,
     "metadata": {},
     "output_type": "execute_result"
    }
   ],
   "source": [
    "experience.head()\n"
   ]
  },
  {
   "cell_type": "code",
   "execution_count": 826,
   "metadata": {},
   "outputs": [
    {
     "data": {
      "text/html": [
       "<div>\n",
       "<style scoped>\n",
       "    .dataframe tbody tr th:only-of-type {\n",
       "        vertical-align: middle;\n",
       "    }\n",
       "\n",
       "    .dataframe tbody tr th {\n",
       "        vertical-align: top;\n",
       "    }\n",
       "\n",
       "    .dataframe thead th {\n",
       "        text-align: right;\n",
       "    }\n",
       "</style>\n",
       "<table border=\"1\" class=\"dataframe\">\n",
       "  <thead>\n",
       "    <tr style=\"text-align: right;\">\n",
       "      <th></th>\n",
       "      <th>Machine Learning</th>\n",
       "      <th>Information Retrieval</th>\n",
       "      <th>Statistics</th>\n",
       "      <th>Databases</th>\n",
       "      <th>total courses</th>\n",
       "      <th>distribution</th>\n",
       "      <th>normalized distribution</th>\n",
       "    </tr>\n",
       "    <tr>\n",
       "      <th>Programme</th>\n",
       "      <th></th>\n",
       "      <th></th>\n",
       "      <th></th>\n",
       "      <th></th>\n",
       "      <th></th>\n",
       "      <th></th>\n",
       "      <th></th>\n",
       "    </tr>\n",
       "  </thead>\n",
       "  <tbody>\n",
       "    <tr>\n",
       "      <th>Artificial Intelligence</th>\n",
       "      <td>0.600000</td>\n",
       "      <td>0.283019</td>\n",
       "      <td>0.912621</td>\n",
       "      <td>0.526786</td>\n",
       "      <td>2.315217</td>\n",
       "      <td>114</td>\n",
       "      <td>0.020309</td>\n",
       "    </tr>\n",
       "    <tr>\n",
       "      <th>Business Analytics</th>\n",
       "      <td>1.000000</td>\n",
       "      <td>0.428571</td>\n",
       "      <td>1.000000</td>\n",
       "      <td>0.500000</td>\n",
       "      <td>3.000000</td>\n",
       "      <td>8</td>\n",
       "      <td>0.375000</td>\n",
       "    </tr>\n",
       "    <tr>\n",
       "      <th>Computational Science</th>\n",
       "      <td>0.250000</td>\n",
       "      <td>0.117647</td>\n",
       "      <td>0.882353</td>\n",
       "      <td>0.416667</td>\n",
       "      <td>1.531250</td>\n",
       "      <td>37</td>\n",
       "      <td>0.041385</td>\n",
       "    </tr>\n",
       "    <tr>\n",
       "      <th>Computer Science</th>\n",
       "      <td>0.762887</td>\n",
       "      <td>0.318182</td>\n",
       "      <td>0.850575</td>\n",
       "      <td>0.621053</td>\n",
       "      <td>2.545455</td>\n",
       "      <td>97</td>\n",
       "      <td>0.026242</td>\n",
       "    </tr>\n",
       "    <tr>\n",
       "      <th>Data Science</th>\n",
       "      <td>0.888889</td>\n",
       "      <td>0.600000</td>\n",
       "      <td>1.000000</td>\n",
       "      <td>0.666667</td>\n",
       "      <td>3.200000</td>\n",
       "      <td>9</td>\n",
       "      <td>0.355556</td>\n",
       "    </tr>\n",
       "    <tr>\n",
       "      <th>other</th>\n",
       "      <td>0.540541</td>\n",
       "      <td>0.189189</td>\n",
       "      <td>0.800000</td>\n",
       "      <td>0.405405</td>\n",
       "      <td>1.833333</td>\n",
       "      <td>39</td>\n",
       "      <td>0.047009</td>\n",
       "    </tr>\n",
       "  </tbody>\n",
       "</table>\n",
       "</div>"
      ],
      "text/plain": [
       "                         Machine Learning  Information Retrieval  Statistics  \\\n",
       "Programme                                                                      \n",
       "Artificial Intelligence          0.600000               0.283019    0.912621   \n",
       "Business Analytics               1.000000               0.428571    1.000000   \n",
       "Computational Science            0.250000               0.117647    0.882353   \n",
       "Computer Science                 0.762887               0.318182    0.850575   \n",
       "Data Science                     0.888889               0.600000    1.000000   \n",
       "other                            0.540541               0.189189    0.800000   \n",
       "\n",
       "                         Databases  total courses  distribution  \\\n",
       "Programme                                                         \n",
       "Artificial Intelligence   0.526786       2.315217           114   \n",
       "Business Analytics        0.500000       3.000000             8   \n",
       "Computational Science     0.416667       1.531250            37   \n",
       "Computer Science          0.621053       2.545455            97   \n",
       "Data Science              0.666667       3.200000             9   \n",
       "other                     0.405405       1.833333            39   \n",
       "\n",
       "                         normalized distribution  \n",
       "Programme                                         \n",
       "Artificial Intelligence                 0.020309  \n",
       "Business Analytics                      0.375000  \n",
       "Computational Science                   0.041385  \n",
       "Computer Science                        0.026242  \n",
       "Data Science                            0.355556  \n",
       "other                                   0.047009  "
      ]
     },
     "execution_count": 826,
     "metadata": {},
     "output_type": "execute_result"
    }
   ],
   "source": [
    "distribution = experience['Programme'].value_counts()\n",
    "courses = experience.groupby('Programme')[['Machine Learning', 'Information Retrieval', 'Statistics', 'Databases', 'total courses']].mean()\n",
    "\n",
    "courses['distribution'] = distribution\n",
    "courses['normalized distribution'] = courses['total courses'] / courses['distribution']\n",
    "courses"
   ]
  },
  {
   "cell_type": "code",
   "execution_count": 827,
   "metadata": {},
   "outputs": [
    {
     "data": {
      "text/plain": [
       "Text(0, 0.5, '')"
      ]
     },
     "execution_count": 827,
     "metadata": {},
     "output_type": "execute_result"
    },
    {
     "data": {
      "image/png": "[encoded data removed]",
      "text/plain": [
       "<Figure size 432x288 with 1 Axes>"
      ]
     },
     "metadata": {
      "needs_background": "light"
     },
     "output_type": "display_data"
    }
   ],
   "source": [
    "legends = [\"Machine Learning, Information Retrieval, Statistics, Databases\"]\n",
    "#fig, ax = plt.subplots()\n",
    "\n",
    "toplotdf = courses[['Machine Learning', 'Information Retrieval', 'Statistics', 'Databases']]\n",
    "ax = toplotdf.plot(kind='bar', title=\"Mean prior knowledge\" )\n",
    "ax.legend(bbox_to_anchor=(1.0, 1.0))\n",
    "ax.set_ylabel('')"
   ]
  },
  {
   "cell_type": "code",
   "execution_count": 828,
   "metadata": {},
   "outputs": [
    {
     "data": {
      "image/png": "[encoded data removed]",
      "text/plain": [
       "<Figure size 360x360 with 1 Axes>"
      ]
     },
     "metadata": {},
     "output_type": "display_data"
    }
   ],
   "source": [
    "ax=courses.plot.pie(y='distribution', figsize=(5,5), legend=None, title = 'Distribution of master program of students')\n",
    "ax.set_ylabel(' ')\n",
    "genderdf = df['gender'].value_counts()"
   ]
  },
  {
   "cell_type": "code",
   "execution_count": 706,
   "metadata": {},
   "outputs": [
    {
     "data": {
      "text/plain": [
       "Text(0, 0.5, '')"
      ]
     },
     "execution_count": 706,
     "metadata": {},
     "output_type": "execute_result"
    },
    {
     "data": {
      "image/png": "[encoded data removed]",
      "text/plain": [
       "<Figure size 360x360 with 1 Axes>"
      ]
     },
     "metadata": {},
     "output_type": "display_data"
    }
   ],
   "source": [
    "ax = genderdf.plot.pie(y='gender', figsize=(5,5), legend=None, title = 'Distribution of gender of students in the course')\n",
    "ax.set_ylabel('')"
   ]
  },
  {
   "cell_type": "code",
   "execution_count": 715,
   "metadata": {},
   "outputs": [],
   "source": [
    "courses2 = courses.reset_index()"
   ]
  },
  {
   "cell_type": "code",
   "execution_count": 719,
   "metadata": {},
   "outputs": [
    {
     "data": {
      "text/html": [
       "<div>\n",
       "<style scoped>\n",
       "    .dataframe tbody tr th:only-of-type {\n",
       "        vertical-align: middle;\n",
       "    }\n",
       "\n",
       "    .dataframe tbody tr th {\n",
       "        vertical-align: top;\n",
       "    }\n",
       "\n",
       "    .dataframe thead th {\n",
       "        text-align: right;\n",
       "    }\n",
       "</style>\n",
       "<table border=\"1\" class=\"dataframe\">\n",
       "  <thead>\n",
       "    <tr style=\"text-align: right;\">\n",
       "      <th></th>\n",
       "      <th>Programme</th>\n",
       "      <th>Machine Learning</th>\n",
       "      <th>Information Retrieval</th>\n",
       "      <th>Statistics</th>\n",
       "      <th>Databases</th>\n",
       "      <th>total courses</th>\n",
       "      <th>distribution</th>\n",
       "      <th>normalized distribution</th>\n",
       "    </tr>\n",
       "  </thead>\n",
       "  <tbody>\n",
       "    <tr>\n",
       "      <th>0</th>\n",
       "      <td>Artificial Intelligence</td>\n",
       "      <td>66.0</td>\n",
       "      <td>30.0</td>\n",
       "      <td>94.0</td>\n",
       "      <td>59.0</td>\n",
       "      <td>213.0</td>\n",
       "      <td>114</td>\n",
       "      <td>1.868421</td>\n",
       "    </tr>\n",
       "    <tr>\n",
       "      <th>1</th>\n",
       "      <td>Business Analytics</td>\n",
       "      <td>8.0</td>\n",
       "      <td>3.0</td>\n",
       "      <td>8.0</td>\n",
       "      <td>4.0</td>\n",
       "      <td>21.0</td>\n",
       "      <td>8</td>\n",
       "      <td>2.625000</td>\n",
       "    </tr>\n",
       "    <tr>\n",
       "      <th>2</th>\n",
       "      <td>Computational Science</td>\n",
       "      <td>9.0</td>\n",
       "      <td>4.0</td>\n",
       "      <td>30.0</td>\n",
       "      <td>15.0</td>\n",
       "      <td>49.0</td>\n",
       "      <td>37</td>\n",
       "      <td>1.324324</td>\n",
       "    </tr>\n",
       "    <tr>\n",
       "      <th>3</th>\n",
       "      <td>Computer Science</td>\n",
       "      <td>74.0</td>\n",
       "      <td>28.0</td>\n",
       "      <td>74.0</td>\n",
       "      <td>59.0</td>\n",
       "      <td>196.0</td>\n",
       "      <td>97</td>\n",
       "      <td>2.020619</td>\n",
       "    </tr>\n",
       "    <tr>\n",
       "      <th>4</th>\n",
       "      <td>Data Science</td>\n",
       "      <td>8.0</td>\n",
       "      <td>3.0</td>\n",
       "      <td>9.0</td>\n",
       "      <td>6.0</td>\n",
       "      <td>16.0</td>\n",
       "      <td>9</td>\n",
       "      <td>1.777778</td>\n",
       "    </tr>\n",
       "    <tr>\n",
       "      <th>5</th>\n",
       "      <td>other</td>\n",
       "      <td>20.0</td>\n",
       "      <td>7.0</td>\n",
       "      <td>28.0</td>\n",
       "      <td>15.0</td>\n",
       "      <td>55.0</td>\n",
       "      <td>39</td>\n",
       "      <td>1.410256</td>\n",
       "    </tr>\n",
       "  </tbody>\n",
       "</table>\n",
       "</div>"
      ],
      "text/plain": [
       "                 Programme  Machine Learning  Information Retrieval  \\\n",
       "0  Artificial Intelligence              66.0                   30.0   \n",
       "1       Business Analytics               8.0                    3.0   \n",
       "2    Computational Science               9.0                    4.0   \n",
       "3         Computer Science              74.0                   28.0   \n",
       "4             Data Science               8.0                    3.0   \n",
       "5                    other              20.0                    7.0   \n",
       "\n",
       "   Statistics  Databases  total courses  distribution  normalized distribution  \n",
       "0        94.0       59.0          213.0           114                 1.868421  \n",
       "1         8.0        4.0           21.0             8                 2.625000  \n",
       "2        30.0       15.0           49.0            37                 1.324324  \n",
       "3        74.0       59.0          196.0            97                 2.020619  \n",
       "4         9.0        6.0           16.0             9                 1.777778  \n",
       "5        28.0       15.0           55.0            39                 1.410256  "
      ]
     },
     "execution_count": 719,
     "metadata": {},
     "output_type": "execute_result"
    }
   ],
   "source": [
    "courses2"
   ]
  },
  {
   "cell_type": "markdown",
   "metadata": {},
   "source": [
    "\n",
    "# Classification: What programme is the student in?\n"
   ]
  },
  {
   "cell_type": "code",
   "execution_count": 769,
   "metadata": {},
   "outputs": [],
   "source": [
    "from sklearn import tree\n",
    "import graphviz\n",
    "from sklearn.model_selection import train_test_split\n",
    "from sklearn import svm\n",
    "from sklearn.model_selection import cross_val_score\n",
    "from sklearn import metrics"
   ]
  },
  {
   "cell_type": "code",
   "execution_count": 752,
   "metadata": {},
   "outputs": [
    {
     "data": {
      "text/html": [
       "<div>\n",
       "<style scoped>\n",
       "    .dataframe tbody tr th:only-of-type {\n",
       "        vertical-align: middle;\n",
       "    }\n",
       "\n",
       "    .dataframe tbody tr th {\n",
       "        vertical-align: top;\n",
       "    }\n",
       "\n",
       "    .dataframe thead th {\n",
       "        text-align: right;\n",
       "    }\n",
       "</style>\n",
       "<table border=\"1\" class=\"dataframe\">\n",
       "  <thead>\n",
       "    <tr style=\"text-align: right;\">\n",
       "      <th></th>\n",
       "      <th>Machine Learning</th>\n",
       "      <th>Information Retrieval</th>\n",
       "      <th>Statistics</th>\n",
       "      <th>Databases</th>\n",
       "      <th>Programme</th>\n",
       "      <th>total courses</th>\n",
       "    </tr>\n",
       "  </thead>\n",
       "  <tbody>\n",
       "    <tr>\n",
       "      <th>0</th>\n",
       "      <td>1.0</td>\n",
       "      <td>0.0</td>\n",
       "      <td>1.0</td>\n",
       "      <td>0.0</td>\n",
       "      <td>Artificial Intelligence</td>\n",
       "      <td>2.0</td>\n",
       "    </tr>\n",
       "    <tr>\n",
       "      <th>1</th>\n",
       "      <td>1.0</td>\n",
       "      <td>0.0</td>\n",
       "      <td>1.0</td>\n",
       "      <td>0.0</td>\n",
       "      <td>Data Science</td>\n",
       "      <td>2.0</td>\n",
       "    </tr>\n",
       "    <tr>\n",
       "      <th>2</th>\n",
       "      <td>1.0</td>\n",
       "      <td>1.0</td>\n",
       "      <td>1.0</td>\n",
       "      <td>1.0</td>\n",
       "      <td>Computational Science</td>\n",
       "      <td>4.0</td>\n",
       "    </tr>\n",
       "    <tr>\n",
       "      <th>4</th>\n",
       "      <td>1.0</td>\n",
       "      <td>1.0</td>\n",
       "      <td>1.0</td>\n",
       "      <td>1.0</td>\n",
       "      <td>Artificial Intelligence</td>\n",
       "      <td>4.0</td>\n",
       "    </tr>\n",
       "    <tr>\n",
       "      <th>8</th>\n",
       "      <td>1.0</td>\n",
       "      <td>0.0</td>\n",
       "      <td>1.0</td>\n",
       "      <td>1.0</td>\n",
       "      <td>other</td>\n",
       "      <td>3.0</td>\n",
       "    </tr>\n",
       "    <tr>\n",
       "      <th>...</th>\n",
       "      <td>...</td>\n",
       "      <td>...</td>\n",
       "      <td>...</td>\n",
       "      <td>...</td>\n",
       "      <td>...</td>\n",
       "      <td>...</td>\n",
       "    </tr>\n",
       "    <tr>\n",
       "      <th>298</th>\n",
       "      <td>0.0</td>\n",
       "      <td>0.0</td>\n",
       "      <td>1.0</td>\n",
       "      <td>1.0</td>\n",
       "      <td>Artificial Intelligence</td>\n",
       "      <td>2.0</td>\n",
       "    </tr>\n",
       "    <tr>\n",
       "      <th>300</th>\n",
       "      <td>1.0</td>\n",
       "      <td>1.0</td>\n",
       "      <td>1.0</td>\n",
       "      <td>1.0</td>\n",
       "      <td>other</td>\n",
       "      <td>4.0</td>\n",
       "    </tr>\n",
       "    <tr>\n",
       "      <th>301</th>\n",
       "      <td>0.0</td>\n",
       "      <td>0.0</td>\n",
       "      <td>1.0</td>\n",
       "      <td>0.0</td>\n",
       "      <td>Computational Science</td>\n",
       "      <td>1.0</td>\n",
       "    </tr>\n",
       "    <tr>\n",
       "      <th>302</th>\n",
       "      <td>1.0</td>\n",
       "      <td>0.0</td>\n",
       "      <td>1.0</td>\n",
       "      <td>0.0</td>\n",
       "      <td>Artificial Intelligence</td>\n",
       "      <td>2.0</td>\n",
       "    </tr>\n",
       "    <tr>\n",
       "      <th>303</th>\n",
       "      <td>1.0</td>\n",
       "      <td>1.0</td>\n",
       "      <td>1.0</td>\n",
       "      <td>1.0</td>\n",
       "      <td>Computer Science</td>\n",
       "      <td>4.0</td>\n",
       "    </tr>\n",
       "  </tbody>\n",
       "</table>\n",
       "<p>243 rows × 6 columns</p>\n",
       "</div>"
      ],
      "text/plain": [
       "     Machine Learning  Information Retrieval  Statistics  Databases  \\\n",
       "0                 1.0                    0.0         1.0        0.0   \n",
       "1                 1.0                    0.0         1.0        0.0   \n",
       "2                 1.0                    1.0         1.0        1.0   \n",
       "4                 1.0                    1.0         1.0        1.0   \n",
       "8                 1.0                    0.0         1.0        1.0   \n",
       "..                ...                    ...         ...        ...   \n",
       "298               0.0                    0.0         1.0        1.0   \n",
       "300               1.0                    1.0         1.0        1.0   \n",
       "301               0.0                    0.0         1.0        0.0   \n",
       "302               1.0                    0.0         1.0        0.0   \n",
       "303               1.0                    1.0         1.0        1.0   \n",
       "\n",
       "                   Programme  total courses  \n",
       "0    Artificial Intelligence            2.0  \n",
       "1               Data Science            2.0  \n",
       "2      Computational Science            4.0  \n",
       "4    Artificial Intelligence            4.0  \n",
       "8                      other            3.0  \n",
       "..                       ...            ...  \n",
       "298  Artificial Intelligence            2.0  \n",
       "300                    other            4.0  \n",
       "301    Computational Science            1.0  \n",
       "302  Artificial Intelligence            2.0  \n",
       "303         Computer Science            4.0  \n",
       "\n",
       "[243 rows x 6 columns]"
      ]
     },
     "execution_count": 752,
     "metadata": {},
     "output_type": "execute_result"
    }
   ],
   "source": [
    "coursesNorm = pd.DataFrame()\n",
    "coursesNorm['Programme'] = courses2['Programme']\n",
    "coursesNorm['distribution'] = courses2['distribution']\n",
    "coursesNorm['ML'] = courses2['Machine Learning'] / courses2['distribution']\n",
    "coursesNorm['IR'] = courses2['Information Retrieval'] / courses2['distribution']\n",
    "coursesNorm['stat'] = courses2['Statistics']/courses2['distribution']\n",
    "coursesNorm['db'] = courses2['Databases']/courses2['distribution']\n",
    "\n",
    "experience.dropna()"
   ]
  },
  {
   "cell_type": "code",
   "execution_count": 806,
   "metadata": {},
   "outputs": [
    {
     "data": {
      "text/plain": [
       "((162, 4), (81,))"
      ]
     },
     "execution_count": 806,
     "metadata": {},
     "output_type": "execute_result"
    }
   ],
   "source": [
    "total = pd.DataFrame().assign(ML = experience['Machine Learning'], IR = experience['Information Retrieval'], stat = experience['Statistics'], db=experience['Databases'], programme=experience['Programme']).dropna()\n",
    "X = pd.DataFrame().assign(ML = experience['Machine Learning'], IR = experience['Information Retrieval'], stat = experience['Statistics'], db=experience['Databases']).dropna()\n",
    "y = total['programme']\n",
    "\n",
    "X_train, X_test, y_train, y_test = train_test_split(X, y, test_size = 0.33)\n",
    "X_train.shape, y_test.shape"
   ]
  },
  {
   "cell_type": "code",
   "execution_count": 829,
   "metadata": {},
   "outputs": [
    {
     "data": {
      "text/plain": [
       "0.37037037037037035"
      ]
     },
     "execution_count": 829,
     "metadata": {},
     "output_type": "execute_result"
    }
   ],
   "source": [
    "\n",
    "svmclf = svm.SVC(kernel = 'linear', C=2, ).fit(X_train, y_train)\n",
    "svmclf.score(X_test, y_test)"
   ]
  },
  {
   "cell_type": "code",
   "execution_count": 830,
   "metadata": {},
   "outputs": [
    {
     "data": {
      "text/plain": [
       "0.354421768707483"
      ]
     },
     "execution_count": 830,
     "metadata": {},
     "output_type": "execute_result"
    }
   ],
   "source": [
    "svmscores = cross_val_score(svmclf, X, y, cv=5)\n",
    "svmscores.mean()"
   ]
  },
  {
   "cell_type": "code",
   "execution_count": 831,
   "metadata": {},
   "outputs": [
    {
     "data": {
      "text/plain": [
       "0.35"
      ]
     },
     "execution_count": 831,
     "metadata": {},
     "output_type": "execute_result"
    }
   ],
   "source": [
    "treeclf = tree.DecisionTreeClassifier(criterion='gini', max_depth=3)\n",
    "treeclf = treeclf.fit(X_train, y_train)\n",
    "treescores = cross_val_score(clf, X, y, cv=5)\n",
    "#y_pred = clf.predict(X_test)\n",
    "treescores.mean()"
   ]
  },
  {
   "cell_type": "code",
   "execution_count": 832,
   "metadata": {},
   "outputs": [
    {
     "ename": "ValueError",
     "evalue": "Found input variables with inconsistent numbers of samples: [81, 73]",
     "output_type": "error",
     "traceback": [
      "\u001b[0;31m---------------------------------------------------------------------------\u001b[0m",
      "\u001b[0;31mValueError\u001b[0m                                Traceback (most recent call last)",
      "\u001b[0;32m<ipython-input-832-790c8e14f665>\u001b[0m in \u001b[0;36m<module>\u001b[0;34m\u001b[0m\n\u001b[0;32m----> 1\u001b[0;31m \u001b[0mprint\u001b[0m\u001b[0;34m(\u001b[0m\u001b[0;34m'Accuracy: '\u001b[0m\u001b[0;34m,\u001b[0m \u001b[0mmetrics\u001b[0m\u001b[0;34m.\u001b[0m\u001b[0maccuracy_score\u001b[0m\u001b[0;34m(\u001b[0m\u001b[0my_test\u001b[0m\u001b[0;34m,\u001b[0m \u001b[0my_pred\u001b[0m\u001b[0;34m)\u001b[0m\u001b[0;34m)\u001b[0m\u001b[0;34m\u001b[0m\u001b[0;34m\u001b[0m\u001b[0m\n\u001b[0m",
      "\u001b[0;32m~/anaconda3/lib/python3.6/site-packages/sklearn/utils/validation.py\u001b[0m in \u001b[0;36minner_f\u001b[0;34m(*args, **kwargs)\u001b[0m\n\u001b[1;32m     61\u001b[0m             \u001b[0mextra_args\u001b[0m \u001b[0;34m=\u001b[0m \u001b[0mlen\u001b[0m\u001b[0;34m(\u001b[0m\u001b[0margs\u001b[0m\u001b[0;34m)\u001b[0m \u001b[0;34m-\u001b[0m \u001b[0mlen\u001b[0m\u001b[0;34m(\u001b[0m\u001b[0mall_args\u001b[0m\u001b[0;34m)\u001b[0m\u001b[0;34m\u001b[0m\u001b[0;34m\u001b[0m\u001b[0m\n\u001b[1;32m     62\u001b[0m             \u001b[0;32mif\u001b[0m \u001b[0mextra_args\u001b[0m \u001b[0;34m<=\u001b[0m \u001b[0;36m0\u001b[0m\u001b[0;34m:\u001b[0m\u001b[0;34m\u001b[0m\u001b[0;34m\u001b[0m\u001b[0m\n\u001b[0;32m---> 63\u001b[0;31m                 \u001b[0;32mreturn\u001b[0m \u001b[0mf\u001b[0m\u001b[0;34m(\u001b[0m\u001b[0;34m*\u001b[0m\u001b[0margs\u001b[0m\u001b[0;34m,\u001b[0m \u001b[0;34m**\u001b[0m\u001b[0mkwargs\u001b[0m\u001b[0;34m)\u001b[0m\u001b[0;34m\u001b[0m\u001b[0;34m\u001b[0m\u001b[0m\n\u001b[0m\u001b[1;32m     64\u001b[0m \u001b[0;34m\u001b[0m\u001b[0m\n\u001b[1;32m     65\u001b[0m             \u001b[0;31m# extra_args > 0\u001b[0m\u001b[0;34m\u001b[0m\u001b[0;34m\u001b[0m\u001b[0;34m\u001b[0m\u001b[0m\n",
      "\u001b[0;32m~/anaconda3/lib/python3.6/site-packages/sklearn/metrics/_classification.py\u001b[0m in \u001b[0;36maccuracy_score\u001b[0;34m(y_true, y_pred, normalize, sample_weight)\u001b[0m\n\u001b[1;32m    200\u001b[0m \u001b[0;34m\u001b[0m\u001b[0m\n\u001b[1;32m    201\u001b[0m     \u001b[0;31m# Compute accuracy for each possible representation\u001b[0m\u001b[0;34m\u001b[0m\u001b[0;34m\u001b[0m\u001b[0;34m\u001b[0m\u001b[0m\n\u001b[0;32m--> 202\u001b[0;31m     \u001b[0my_type\u001b[0m\u001b[0;34m,\u001b[0m \u001b[0my_true\u001b[0m\u001b[0;34m,\u001b[0m \u001b[0my_pred\u001b[0m \u001b[0;34m=\u001b[0m \u001b[0m_check_targets\u001b[0m\u001b[0;34m(\u001b[0m\u001b[0my_true\u001b[0m\u001b[0;34m,\u001b[0m \u001b[0my_pred\u001b[0m\u001b[0;34m)\u001b[0m\u001b[0;34m\u001b[0m\u001b[0;34m\u001b[0m\u001b[0m\n\u001b[0m\u001b[1;32m    203\u001b[0m     \u001b[0mcheck_consistent_length\u001b[0m\u001b[0;34m(\u001b[0m\u001b[0my_true\u001b[0m\u001b[0;34m,\u001b[0m \u001b[0my_pred\u001b[0m\u001b[0;34m,\u001b[0m \u001b[0msample_weight\u001b[0m\u001b[0;34m)\u001b[0m\u001b[0;34m\u001b[0m\u001b[0;34m\u001b[0m\u001b[0m\n\u001b[1;32m    204\u001b[0m     \u001b[0;32mif\u001b[0m \u001b[0my_type\u001b[0m\u001b[0;34m.\u001b[0m\u001b[0mstartswith\u001b[0m\u001b[0;34m(\u001b[0m\u001b[0;34m'multilabel'\u001b[0m\u001b[0;34m)\u001b[0m\u001b[0;34m:\u001b[0m\u001b[0;34m\u001b[0m\u001b[0;34m\u001b[0m\u001b[0m\n",
      "\u001b[0;32m~/anaconda3/lib/python3.6/site-packages/sklearn/metrics/_classification.py\u001b[0m in \u001b[0;36m_check_targets\u001b[0;34m(y_true, y_pred)\u001b[0m\n\u001b[1;32m     81\u001b[0m     \u001b[0my_pred\u001b[0m \u001b[0;34m:\u001b[0m \u001b[0marray\u001b[0m \u001b[0;32mor\u001b[0m \u001b[0mindicator\u001b[0m \u001b[0mmatrix\u001b[0m\u001b[0;34m\u001b[0m\u001b[0;34m\u001b[0m\u001b[0m\n\u001b[1;32m     82\u001b[0m     \"\"\"\n\u001b[0;32m---> 83\u001b[0;31m     \u001b[0mcheck_consistent_length\u001b[0m\u001b[0;34m(\u001b[0m\u001b[0my_true\u001b[0m\u001b[0;34m,\u001b[0m \u001b[0my_pred\u001b[0m\u001b[0;34m)\u001b[0m\u001b[0;34m\u001b[0m\u001b[0;34m\u001b[0m\u001b[0m\n\u001b[0m\u001b[1;32m     84\u001b[0m     \u001b[0mtype_true\u001b[0m \u001b[0;34m=\u001b[0m \u001b[0mtype_of_target\u001b[0m\u001b[0;34m(\u001b[0m\u001b[0my_true\u001b[0m\u001b[0;34m)\u001b[0m\u001b[0;34m\u001b[0m\u001b[0;34m\u001b[0m\u001b[0m\n\u001b[1;32m     85\u001b[0m     \u001b[0mtype_pred\u001b[0m \u001b[0;34m=\u001b[0m \u001b[0mtype_of_target\u001b[0m\u001b[0;34m(\u001b[0m\u001b[0my_pred\u001b[0m\u001b[0;34m)\u001b[0m\u001b[0;34m\u001b[0m\u001b[0;34m\u001b[0m\u001b[0m\n",
      "\u001b[0;32m~/anaconda3/lib/python3.6/site-packages/sklearn/utils/validation.py\u001b[0m in \u001b[0;36mcheck_consistent_length\u001b[0;34m(*arrays)\u001b[0m\n\u001b[1;32m    318\u001b[0m     \u001b[0;32mif\u001b[0m \u001b[0mlen\u001b[0m\u001b[0;34m(\u001b[0m\u001b[0muniques\u001b[0m\u001b[0;34m)\u001b[0m \u001b[0;34m>\u001b[0m \u001b[0;36m1\u001b[0m\u001b[0;34m:\u001b[0m\u001b[0;34m\u001b[0m\u001b[0;34m\u001b[0m\u001b[0m\n\u001b[1;32m    319\u001b[0m         raise ValueError(\"Found input variables with inconsistent numbers of\"\n\u001b[0;32m--> 320\u001b[0;31m                          \" samples: %r\" % [int(l) for l in lengths])\n\u001b[0m\u001b[1;32m    321\u001b[0m \u001b[0;34m\u001b[0m\u001b[0m\n\u001b[1;32m    322\u001b[0m \u001b[0;34m\u001b[0m\u001b[0m\n",
      "\u001b[0;31mValueError\u001b[0m: Found input variables with inconsistent numbers of samples: [81, 73]"
     ]
    }
   ],
   "source": [
    "print('Accuracy: ', metrics.accuracy_score(y_test, y_pred))"
   ]
  },
  {
   "cell_type": "code",
   "execution_count": 833,
   "metadata": {},
   "outputs": [
    {
     "name": "stdout",
     "output_type": "stream",
     "text": [
      "accuracy support vector:  0.32653061224489793\n",
      "accuracy support vector:  0.2857142857142857\n",
      "accuracy support vector:  0.32653061224489793\n",
      "accuracy support vector:  0.4166666666666667\n",
      "accuracy support vector:  0.4166666666666667\n",
      "\n",
      "Mean accuracy SVM:  0.354421768707483 \n",
      "\n",
      "Accuracy decision tree:  0.3877551020408163\n",
      "Accuracy decision tree:  0.2857142857142857\n",
      "Accuracy decision tree:  0.32653061224489793\n",
      "Accuracy decision tree:  0.4166666666666667\n",
      "Accuracy decision tree:  0.3333333333333333\n",
      "\n",
      "Mean accuracy tree:  0.35\n"
     ]
    }
   ],
   "source": [
    "for i in svmscores: \n",
    "    print('accuracy support vector: ', i)\n",
    "print('\\nMean accuracy SVM: ', svmscores.mean(), '\\n')\n",
    "for i in treescores:\n",
    "    print('Accuracy decision tree: ', i)\n",
    "print( '\\nMean accuracy tree: ',treescores.mean())"
   ]
  },
  {
   "cell_type": "code",
   "execution_count": 834,
   "metadata": {},
   "outputs": [
    {
     "ename": "AttributeError",
     "evalue": "'DataFrame' object has no attribute 'comment_text'",
     "output_type": "error",
     "traceback": [
      "\u001b[0;31m---------------------------------------------------------------------------\u001b[0m",
      "\u001b[0;31mAttributeError\u001b[0m                            Traceback (most recent call last)",
      "\u001b[0;32m<ipython-input-834-75b3522d6948>\u001b[0m in \u001b[0;36m<module>\u001b[0;34m\u001b[0m\n\u001b[1;32m      1\u001b[0m \u001b[0mcategories\u001b[0m \u001b[0;34m=\u001b[0m \u001b[0;34m[\u001b[0m\u001b[0;34m'Artificial Intelligence'\u001b[0m\u001b[0;34m,\u001b[0m \u001b[0;34m'Business Analytics'\u001b[0m\u001b[0;34m,\u001b[0m \u001b[0;34m'Computational Science'\u001b[0m\u001b[0;34m,\u001b[0m \u001b[0;34m'Computer Science'\u001b[0m\u001b[0;34m,\u001b[0m \u001b[0;34m'Data Science'\u001b[0m\u001b[0;34m,\u001b[0m \u001b[0;34m'other'\u001b[0m\u001b[0;34m]\u001b[0m\u001b[0;34m\u001b[0m\u001b[0;34m\u001b[0m\u001b[0m\n\u001b[0;32m----> 2\u001b[0;31m \u001b[0mX_train\u001b[0m\u001b[0;34m.\u001b[0m\u001b[0mcomment_text\u001b[0m\u001b[0;34m\u001b[0m\u001b[0;34m\u001b[0m\u001b[0m\n\u001b[0m",
      "\u001b[0;32m~/anaconda3/lib/python3.6/site-packages/pandas/core/generic.py\u001b[0m in \u001b[0;36m__getattr__\u001b[0;34m(self, name)\u001b[0m\n\u001b[1;32m   5139\u001b[0m             \u001b[0;32mif\u001b[0m \u001b[0mself\u001b[0m\u001b[0;34m.\u001b[0m\u001b[0m_info_axis\u001b[0m\u001b[0;34m.\u001b[0m\u001b[0m_can_hold_identifiers_and_holds_name\u001b[0m\u001b[0;34m(\u001b[0m\u001b[0mname\u001b[0m\u001b[0;34m)\u001b[0m\u001b[0;34m:\u001b[0m\u001b[0;34m\u001b[0m\u001b[0;34m\u001b[0m\u001b[0m\n\u001b[1;32m   5140\u001b[0m                 \u001b[0;32mreturn\u001b[0m \u001b[0mself\u001b[0m\u001b[0;34m[\u001b[0m\u001b[0mname\u001b[0m\u001b[0;34m]\u001b[0m\u001b[0;34m\u001b[0m\u001b[0;34m\u001b[0m\u001b[0m\n\u001b[0;32m-> 5141\u001b[0;31m             \u001b[0;32mreturn\u001b[0m \u001b[0mobject\u001b[0m\u001b[0;34m.\u001b[0m\u001b[0m__getattribute__\u001b[0m\u001b[0;34m(\u001b[0m\u001b[0mself\u001b[0m\u001b[0;34m,\u001b[0m \u001b[0mname\u001b[0m\u001b[0;34m)\u001b[0m\u001b[0;34m\u001b[0m\u001b[0;34m\u001b[0m\u001b[0m\n\u001b[0m\u001b[1;32m   5142\u001b[0m \u001b[0;34m\u001b[0m\u001b[0m\n\u001b[1;32m   5143\u001b[0m     \u001b[0;32mdef\u001b[0m \u001b[0m__setattr__\u001b[0m\u001b[0;34m(\u001b[0m\u001b[0mself\u001b[0m\u001b[0;34m,\u001b[0m \u001b[0mname\u001b[0m\u001b[0;34m:\u001b[0m \u001b[0mstr\u001b[0m\u001b[0;34m,\u001b[0m \u001b[0mvalue\u001b[0m\u001b[0;34m)\u001b[0m \u001b[0;34m->\u001b[0m \u001b[0;32mNone\u001b[0m\u001b[0;34m:\u001b[0m\u001b[0;34m\u001b[0m\u001b[0;34m\u001b[0m\u001b[0m\n",
      "\u001b[0;31mAttributeError\u001b[0m: 'DataFrame' object has no attribute 'comment_text'"
     ]
    }
   ],
   "source": [
    "categories = ['Artificial Intelligence', 'Business Analytics', 'Computational Science', 'Computer Science', 'Data Science', 'other']\n",
    "X_train.comment_text"
   ]
  },
  {
   "cell_type": "code",
   "execution_count": null,
   "metadata": {},
   "outputs": [],
   "source": []
  }
 ],
 "metadata": {
  "kernelspec": {
   "display_name": "Python 3",
   "language": "python",
   "name": "python3"
  },
  "language_info": {
   "codemirror_mode": {
    "name": "ipython",
    "version": 3
   },
   "file_extension": ".py",
   "mimetype": "text/x-python",
   "name": "python",
   "nbconvert_exporter": "python",
   "pygments_lexer": "ipython3",
   "version": "3.6.8"
  }
 },
 "nbformat": 4,
 "nbformat_minor": 2
}
